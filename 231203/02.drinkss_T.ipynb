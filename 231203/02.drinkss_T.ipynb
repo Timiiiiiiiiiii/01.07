{
 "cells": [
  {
   "cell_type": "markdown",
   "metadata": {},
   "source": [
    "1. csv 폴더 안에 있는 drinks.csv 파일 로드\n",
    "2. 결측치를 확인\n",
    "3. continent 컬럼에 결측치 존재 -> 결측치를 'OT' 채워준다.\n",
    "4. 컬럼의 이름을 변경 -> ['국가','맥주소비량','증류주소비량','와인소비량','도수','대륙']\n",
    "5. 대륙별 맥주소비량의 평균, 최소, 최대, 합계 출력\n",
    "6. 도수 컬럼의 평균 값보다 대륙별 도수의 평균이 높은 대륙을 출력"
   ]
  },
  {
   "cell_type": "code",
   "execution_count": null,
   "metadata": {},
   "outputs": [],
   "source": [
    "import pandas as pd"
   ]
  },
  {
   "cell_type": "code",
   "execution_count": null,
   "metadata": {},
   "outputs": [],
   "source": [
    "# 결측치를 확인\n",
    "drinks.info()"
   ]
  },
  {
   "cell_type": "code",
   "execution_count": null,
   "metadata": {},
   "outputs": [],
   "source": [
    "drinks.isna().sum()"
   ]
  },
  {
   "cell_type": "code",
   "execution_count": null,
   "metadata": {},
   "outputs": [],
   "source": [
    "# continent 컬럼에 결측치를 'OT'로 대체\n",
    "drinks['continent'] = drinks['continent'].fillna('OT')"
   ]
  },
  {
   "cell_type": "code",
   "execution_count": null,
   "metadata": {},
   "outputs": [],
   "source": [
    "drinks.isna().sum()"
   ]
  },
  {
   "cell_type": "code",
   "execution_count": null,
   "metadata": {},
   "outputs": [],
   "source": [
    "# 컬럼의 이름을 변경\n",
    "drinks.rename(columns={\n",
    "    'country' : '국가',\n",
    "    'beer_servings' : '맥주소비량',\n",
    "    'spirit_service' : '증류소비량',\n",
    "    'wine_servings' : '와인소비량',\n",
    "    'total_litres_of_pure_alcohol' : '도수',\n",
    "    'continent' : '대륙'  \n",
    "}, inplace = True)"
   ]
  },
  {
   "cell_type": "code",
   "execution_count": null,
   "metadata": {},
   "outputs": [],
   "source": [
    "# 대륙별 맥주소비량의 평균,최소,최대,합계\n",
    "group_data = drinks[['대륙','맥주소비량','와인소비량']].groupby('대륙').agg(['min','max','mean','sum'])"
   ]
  },
  {
   "cell_type": "code",
   "execution_count": null,
   "metadata": {},
   "outputs": [],
   "source": [
    "group_data['맥주소비량']['mean']"
   ]
  },
  {
   "cell_type": "code",
   "execution_count": null,
   "metadata": {},
   "outputs": [],
   "source": [
    "drinks[['대륙','맥주소비량']].groupby('대륙').describe()"
   ]
  },
  {
   "cell_type": "code",
   "execution_count": null,
   "metadata": {},
   "outputs": [],
   "source": [
    "# 전체 데이터에서 도수 컬럼의 평균보다 대륙별 도수의 평균이 높은 대륙은 어디인가?\n",
    "\n",
    "# 전체 데이터의 도수의 평균\n",
    "mean_data = drinks['도수'].mean()"
   ]
  },
  {
   "cell_type": "code",
   "execution_count": null,
   "metadata": {},
   "outputs": [],
   "source": [
    "# 대륙별 도수 평균 데이터 생성\n",
    "group_data2 = drinks[['대륙','도수']].group5('대륙').mean()\n",
    "group_data2"
   ]
  },
  {
   "cell_type": "code",
   "execution_count": null,
   "metadata": {},
   "outputs": [],
   "source": [
    "flag = group_data2['도수'] > mean_data"
   ]
  },
  {
   "cell_type": "code",
   "execution_count": null,
   "metadata": {},
   "outputs": [],
   "source": [
    "group_data2.loc[flag]"
   ]
  },
  {
   "cell_type": "code",
   "execution_count": null,
   "metadata": {},
   "outputs": [],
   "source": [
    "# 과연 우리나라는 술 소비량이 어느정도인가?\n",
    "# 술 소비량이 가장 많은 국가는 어디인가?\n",
    "\n",
    "# 총술소비량 컬럼을 생성 -> 맥주소비량 + 와인소비량 + 증류주소비량\n",
    "# 총술소비량 내림차순 정렬\n",
    "# 인덱스를 초기화하고 기존의 인덱스는 제거\n",
    "\n",
    "# top10을 출력하고\n",
    "\n",
    "# 우리나라는 몇 위에 있는가?"
   ]
  },
  {
   "cell_type": "code",
   "execution_count": null,
   "metadata": {},
   "outputs": [],
   "source": [
    "# 총술소비량 파생변수 생성\n",
    "drinks['총술소비량'] = drinks['맥주소비량'] + drinks['와인소비량'] + drinks['증류주소비량']\n",
    "drinks.head()"
   ]
  },
  {
   "cell_type": "code",
   "execution_count": null,
   "metadata": {},
   "outputs": [],
   "source": [
    "drinks.sort_values('총술소비량',ascending=False, inplace=True)"
   ]
  },
  {
   "cell_type": "code",
   "execution_count": null,
   "metadata": {},
   "outputs": [],
   "source": [
    "# 인덱스를 초기화하고 기존의 인덱스는 제거\n",
    "drinks.reset_index(drop=True, inplace=True)"
   ]
  },
  {
   "cell_type": "code",
   "execution_count": null,
   "metadata": {},
   "outputs": [],
   "source": [
    "# 상위의 10개 국가를 확인\n",
    "drinks.head(10)"
   ]
  },
  {
   "cell_type": "code",
   "execution_count": null,
   "metadata": {},
   "outputs": [],
   "source": [
    "drinks.tail(10) # 하위 10개 국가"
   ]
  },
  {
   "cell_type": "code",
   "execution_count": null,
   "metadata": {},
   "outputs": [],
   "source": [
    "drinks.iloc[:10]"
   ]
  },
  {
   "cell_type": "code",
   "execution_count": null,
   "metadata": {},
   "outputs": [],
   "source": [
    "drinks[-10:]"
   ]
  },
  {
   "cell_type": "code",
   "execution_count": null,
   "metadata": {},
   "outputs": [],
   "source": [
    "# 우리나라는 몇위인가?\n",
    "flag = drinks['국가'] == 'South Korea'"
   ]
  },
  {
   "cell_type": "code",
   "execution_count": null,
   "metadata": {},
   "outputs": [],
   "source": [
    "drinks.loc[flag]"
   ]
  },
  {
   "cell_type": "code",
   "execution_count": null,
   "metadata": {},
   "outputs": [],
   "source": [
    "# value들의 빈도수를 체크하는 함수 \n",
    "drinks['국가'].value_counts()"
   ]
  },
  {
   "cell_type": "code",
   "execution_count": 32,
   "metadata": {},
   "outputs": [],
   "source": [
    "# 총술소비량 바형 그래프 표시\n",
    "import matplotlib.pyplot as plt"
   ]
  },
  {
   "cell_type": "code",
   "execution_count": null,
   "metadata": {},
   "outputs": [],
   "source": [
    "drinks.loc[drinks['국가']] == 'South Korea', '총술소비량'"
   ]
  },
  {
   "cell_type": "code",
   "execution_count": null,
   "metadata": {},
   "outputs": [],
   "source": [
    "x = drinks.index\n",
    "y = drinks['총술소비량']\n",
    "\n",
    "# 한국 데이터의 인덱스 값을 추출\n",
    "korea_index = drinks.loc[drinks['국가'] == 'South Korea'].index[0]\n",
    "# 한국 데이터의 총술소비량 데이터 추출\n",
    "korea_total = drinks.loc[drinks['국가'] == 'South Korea', '총술소비량']\n",
    "\n",
    "plt.figure(figsize=(16,8))\n",
    "bar_list = plt.bar(x,y)\n",
    "# 특정 위치의 막대를 설정 변경 -> 막대의 색을 빨간색으로 변경\n",
    "bar_list[korea_index].set_color('r')\n",
    "\n",
    "# 그래프에 주석을 추가\n",
    "plt.annotate(\n",
    "    'South Korea : ' + str(korea_index + 1), # 주석의 테스트\n",
    "    xytext= (korea_index + 10, korea_total + 100), # 텍스트의 위치\n",
    "    xy = (korea_index, korea_total), #  주석이 가르키는 막대의 위치\n",
    "    # 화살표를 추가\n",
    "    arrowprops = dict(\n",
    "        facecolor = 'r',\n",
    "        edgecolor = 'b',\n",
    "        headwith = 20,\n",
    "        headlengh = 20,\n",
    "        width = '10'\n",
    "        shrink = 0.05 # 화장표 주석 사이의 거리\n",
    "        )\n",
    "\n",
    "plt.show()"
   ]
  },
  {
   "cell_type": "code",
   "execution_count": null,
   "metadata": {},
   "outputs": [],
   "source": []
  }
 ],
 "metadata": {
  "kernelspec": {
   "display_name": "Python 3",
   "language": "python",
   "name": "python3"
  },
  "language_info": {
   "codemirror_mode": {
    "name": "ipython",
    "version": 3
   },
   "file_extension": ".py",
   "mimetype": "text/x-python",
   "name": "python",
   "nbconvert_exporter": "python",
   "pygments_lexer": "ipython3",
   "version": "3.12.0"
  }
 },
 "nbformat": 4,
 "nbformat_minor": 2
}
