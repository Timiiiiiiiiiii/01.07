{
 "cells": [
  {
   "cell_type": "code",
   "execution_count": null,
   "metadata": {},
   "outputs": [],
   "source": [
    "1. csv 폴더 안에 있는 drinks.csv 파일 로드\n",
    "2. 결측치를 확인\n",
    "3. continent 컬럼에 결측치 존재 -> 결측치를 'OT' 채워준다.\n",
    "4. 컬럼의 이름을 변경 -> ['국가', '맥주소비량', '']"
   ]
  }
 ],
 "metadata": {
  "language_info": {
   "name": "python"
  }
 },
 "nbformat": 4,
 "nbformat_minor": 2
}
